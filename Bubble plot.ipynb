{
 "cells": [
  {
   "cell_type": "markdown",
   "id": "f73ba3aa-4db7-46b5-96c1-0aeaa53db881",
   "metadata": {},
   "source": [
    "# Bubble plot of scientific papers data"
   ]
  },
  {
   "cell_type": "code",
   "execution_count": 3,
   "id": "c9665866-da6e-44c1-b919-d9ac90906eb4",
   "metadata": {},
   "outputs": [],
   "source": [
    "import os\n",
    "import pandas as pd\n",
    "import numpy as np\n",
    "import seaborn as sns\n",
    "import matplotlib.pyplot as plt\n",
    "\n",
    "plt.style.use([\"ggplot\", \"./example.mplstyle\"])\n",
    "style_colors = plt.rcParams['axes.prop_cycle'].by_key()['color']"
   ]
  },
  {
   "cell_type": "markdown",
   "id": "f9f1e216-752c-4f19-9bb6-748467dcec91",
   "metadata": {
    "tags": []
   },
   "source": [
    "## Setup"
   ]
  },
  {
   "cell_type": "code",
   "execution_count": 4,
   "id": "c2d83459-24e1-4114-ac91-d5545d60c126",
   "metadata": {},
   "outputs": [],
   "source": [
    "source_path = os.path.join(\"data\", \"papers.csv\")\n",
    "papers_df = pd.read_csv(source_path)\n",
    "papers_df.drop(\n",
    "    columns=[\"Comments (enter 'N/A' if none)\", \"Title.1\"], inplace=True\n",
    ")\n",
    "\n",
    "YEAR = \"Year of publication\"\n",
    "VAL_TYPE = \"validation\"\n",
    "validation_stages = [\n",
    "    \"Internal validation\",\n",
    "    \"External retrospective validation (other hospitals)\",\n",
    "    \"External retrospective validation (separate dataset)\",\n",
    "    \"Prospective observational validation\",\n",
    "    \"Non-randomised interventional validation (clinical trial)\",\n",
    "    \"Randomised interventional validation (clinical trial)\",\n",
    "    \"Regulatory approval\",\n",
    "    \"Post-deployment surveillance\"\n",
    "]\n",
    "\n",
    "tmp_df = papers_df.copy()\n",
    "\n",
    "# Create a validation column with the name of the furthest stage of validation of each paper\n",
    "tmp_df[VAL_TYPE] = [None for itr in range(len(papers_df))]\n",
    "for row_idx in range(tmp_df.shape[0]):\n",
    "    for val_stage in validation_stages:\n",
    "        if tmp_df[val_stage][row_idx]:\n",
    "            tmp_df.loc[row_idx, VAL_TYPE] = val_stage\n",
    "\n",
    "#QOL functions\n",
    "def get_papers_in_year_and_val(year, val):\n",
    "    return tmp_df[(tmp_df[YEAR] == year) & (tmp_df[val])].shape[0]\n",
    "\n",
    "def get_scatter_xyr(year, val):\n",
    "    x = year - tmp_df[YEAR].min()\n",
    "    y = validation_stages.index(val)\n",
    "    r = tmp_df[(tmp_df[YEAR] == year) & (tmp_df[val])].shape[0]\n",
    "    return x, y, r\n"
   ]
  },
  {
   "cell_type": "markdown",
   "id": "b4a68336-e8b7-4fcf-bb6d-ac7fff19390a",
   "metadata": {},
   "source": [
    "## Plot"
   ]
  },
  {
   "cell_type": "code",
   "execution_count": 6,
   "id": "67b70ea8-4cf3-45e6-ae91-cf7bca2a3050",
   "metadata": {},
   "outputs": [
    {
     "data": {
      "image/png": "[encoded data removed]",
      "text/plain": [
       "<Figure size 540x194.4 with 1 Axes>"
      ]
     },
     "metadata": {},
     "output_type": "display_data"
    }
   ],
   "source": [
    "# Data extraction\n",
    "xs, ys, rs = [], [], []\n",
    "R_SCALE = 14\n",
    "for year in tmp_df[YEAR]:\n",
    "    for val in validation_stages:\n",
    "        x, y, r = get_scatter_xyr(year, val)\n",
    "        xs.append(x)\n",
    "        ys.append(y)\n",
    "        rs.append(0 if r==0 else r*R_SCALE)\n",
    "\n",
    "##########\n",
    "## Plot ##\n",
    "##########\n",
    "\n",
    "# Clean way to specify arguments temporary for just this plot\n",
    "with plt.rc_context({\n",
    "    \"axes.facecolor\": \"#D0D9F0\",\n",
    "    \"legend.framealpha\": 0.0,\n",
    "}):\n",
    "    plt.figure(figsize=(7.5, 2.7))\n",
    "\n",
    "    validation_stages_ticks = [\n",
    "        \"Internal\",\n",
    "        \"External (other hospitals)\",\n",
    "        \"External (separate dataset)\",\n",
    "        \"Prospective observational\",\n",
    "        \"Non-randomised interventional trial\",\n",
    "        \"Randomised interventional trial\",\n",
    "        \"Regulatory approval\",\n",
    "        \"Post-deployment surveillance\"\n",
    "    ]\n",
    "\n",
    "    scatter = plt.scatter(xs, ys, rs)\n",
    "\n",
    "    # Custom legend for scatter plot bubble sizes\n",
    "    # Sets custom legend position, padding, color, title\n",
    "    handles, labels = scatter.legend_elements(\n",
    "        prop=\"sizes\", num=5, color=style_colors[0], func=lambda r: r/R_SCALE\n",
    "    )\n",
    "    plt.gca().legend(\n",
    "        handles, labels, title=\"Papers\",\n",
    "        loc=(1.02, 0.2), borderpad=0.5, labelspacing=1.2\n",
    "    )\n",
    "\n",
    "    # Move x labels and ticks to the top\n",
    "    plt.xticks(list(range(0, 21, 2)), list(range(2001, 2022, 2)), rotation=90)\n",
    "    plt.xlabel(\"Year of publication\")\n",
    "    plt.gca().xaxis.tick_top()\n",
    "    plt.gca().xaxis.set_label_coords(.5, 1.4)\n",
    "\n",
    "    # Invert y axis\n",
    "    plt.ylim(-1.5, 7.5)\n",
    "    plt.yticks(list(range(len(validation_stages))), validation_stages_ticks)\n",
    "    plt.gca().invert_yaxis()\n",
    "\n",
    "    # Hide all frame sides\n",
    "    plt.gca().spines['top'].set_visible(False)\n",
    "    plt.gca().spines['bottom'].set_visible(False)\n",
    "    plt.gca().spines['left'].set_visible(False)\n",
    "    plt.gca().spines['right'].set_visible(False)\n",
    "    \n",
    "    plt.tight_layout()\n",
    "    plt.savefig(os.path.join(\"out\", f\"Bubble plot.png\"))\n",
    "\n",
    "    plt.show()"
   ]
  },
  {
   "cell_type": "code",
   "execution_count": null,
   "id": "c7b5122b-7464-414e-a18d-5fa16c5a9857",
   "metadata": {},
   "outputs": [],
   "source": []
  }
 ],
 "metadata": {
  "kernelspec": {
   "display_name": "Python 3 (ipykernel)",
   "language": "python",
   "name": "python3"
  },
  "language_info": {
   "codemirror_mode": {
    "name": "ipython",
    "version": 3
   },
   "file_extension": ".py",
   "mimetype": "text/x-python",
   "name": "python",
   "nbconvert_exporter": "python",
   "pygments_lexer": "ipython3",
   "version": "3.9.15"
  }
 },
 "nbformat": 4,
 "nbformat_minor": 5
}
